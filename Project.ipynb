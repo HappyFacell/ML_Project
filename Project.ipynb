{
 "cells": [
  {
   "cell_type": "markdown",
   "id": "df2db6f6",
   "metadata": {},
   "source": [
    "# Load Dataset:"
   ]
  },
  {
   "cell_type": "code",
   "execution_count": 17,
   "id": "feba01be",
   "metadata": {},
   "outputs": [],
   "source": [
    "import numpy as np\n",
    "import pandas as pd\n",
    "from sklearn.model_selection import train_test_split\n",
    "import matplotlib.pyplot as plt"
   ]
  },
  {
   "cell_type": "code",
   "execution_count": 20,
   "id": "3fb2d229",
   "metadata": {
    "scrolled": false
   },
   "outputs": [
    {
     "name": "stdout",
     "output_type": "stream",
     "text": [
      "        Rank                                               Name   Type  \\\n",
      "0          1  Demon Slayer: Kimetsu no Yaiba - Entertainment...  TV      \n",
      "1          2                     Fruits Basket the Final Season  TV      \n",
      "2          3                                    Mo Dao Zu Shi 3  Web     \n",
      "3          4                   Fullmetal Alchemist: Brotherhood  TV      \n",
      "4          5                Attack on Titan 3rd Season: Part II  TV      \n",
      "...      ...                                                ...    ...   \n",
      "18490  18491  Qin Shi Mingyue: Canghai Hengliu Xiaomeng Spec...  Web     \n",
      "18491  18492                      Yi Tang Juchang: Sanguo Yanyi  TV      \n",
      "18492  18493          Fenghuang Ji Xiang Yu Qingming Shanghe Tu  TV      \n",
      "18493  18494                      Chengshi Jiyi Wo Men de Jieri  TV      \n",
      "18494  18495  Heisei Inu Monogatari Bow: Genshi Inu Monogata...  Movie   \n",
      "\n",
      "       Episodes                        Studio  \\\n",
      "0          21.0                      ufotable   \n",
      "1          13.0             TMS Entertainment   \n",
      "2          12.0              B.C MAY PICTURES   \n",
      "3          64.0                         Bones   \n",
      "4          10.0                    WIT Studio   \n",
      "...         ...                           ...   \n",
      "18490       2.0  Sparkly Key Animation Studio   \n",
      "18491     108.0                       Unknown   \n",
      "18492      13.0                       Unknown   \n",
      "18493      21.0                       Unknown   \n",
      "18494      21.0              Nippon Animation   \n",
      "\n",
      "                                                    Tags  Rating  \\\n",
      "0      Action, Adventure, Fantasy, Shounen, Demons, H...    4.60   \n",
      "1      Drama, Fantasy, Romance, Shoujo, Animal Transf...    4.60   \n",
      "2      Fantasy, Ancient China, Chinese Animation, Cul...    4.58   \n",
      "3      Action, Adventure, Drama, Fantasy, Mystery, Sh...    4.58   \n",
      "4      Action, Fantasy, Horror, Shounen, Dark Fantasy...    4.57   \n",
      "...                                                  ...     ...   \n",
      "18490  Action, Ancient China, Chinese Animation, Hist...    3.36   \n",
      "18491                                  Chinese Animation    3.36   \n",
      "18492  Chinese Animation, Family Friendly, Short Epis...    3.36   \n",
      "18493  Chinese Animation, Family Friendly, Short Epis...    3.36   \n",
      "18494                        Comedy, Slice of Life, Dogs    3.36   \n",
      "\n",
      "       Release_year  End_year  \n",
      "0            2021.0    2004.0  \n",
      "1            2021.0    2004.0  \n",
      "2            2021.0    2004.0  \n",
      "3            2009.0    2010.0  \n",
      "4            2019.0    2004.0  \n",
      "...             ...       ...  \n",
      "18490        2020.0    2004.0  \n",
      "18491        2010.0    2004.0  \n",
      "18492        2020.0    2004.0  \n",
      "18493        2020.0    2004.0  \n",
      "18494        1994.0    2004.0  \n",
      "\n",
      "[18495 rows x 9 columns]\n",
      "-------------------------------------------------------\n",
      "<class 'pandas.core.frame.DataFrame'>\n",
      "RangeIndex: 18495 entries, 0 to 18494\n",
      "Data columns (total 9 columns):\n",
      " #   Column        Non-Null Count  Dtype  \n",
      "---  ------        --------------  -----  \n",
      " 0   Rank          18495 non-null  int64  \n",
      " 1   Name          18495 non-null  object \n",
      " 2   Type          18495 non-null  object \n",
      " 3   Episodes      18495 non-null  float64\n",
      " 4   Studio        18495 non-null  object \n",
      " 5   Tags          18495 non-null  object \n",
      " 6   Rating        18495 non-null  float64\n",
      " 7   Release_year  18495 non-null  float64\n",
      " 8   End_year      18495 non-null  float64\n",
      "dtypes: float64(4), int64(1), object(4)\n",
      "memory usage: 1.3+ MB\n"
     ]
    },
    {
     "name": "stderr",
     "output_type": "stream",
     "text": [
      "/var/folders/ws/rj33qd2n4wd6dnhh00bxth940000gp/T/ipykernel_17320/1131206635.py:3: FutureWarning: Dropping of nuisance columns in DataFrame reductions (with 'numeric_only=None') is deprecated; in a future version this will raise TypeError.  Select only valid columns before calling the reduction.\n",
      "  data = data.fillna(data.mean())\n"
     ]
    }
   ],
   "source": [
    "data = pd.read_csv('Anime.csv')\n",
    "\n",
    "data = data.fillna(data.mean())\n",
    "data = data.drop(['Japanese_name', 'Release_season', 'Description', 'Content_Warning', 'Related_Mange', 'Related_anime', 'Voice_actors', 'staff'], axis =1)\n",
    "#data.head()\n",
    "\n",
    "data['End_year'] = data['End_year'].round()\n",
    "data['Rating'] = data['Rating'].round(2)\n",
    "data['Episodes'] = data['Episodes'].round()\n",
    "\n",
    "data = data.fillna('Unknown')\n",
    "\n",
    "print(data)\n",
    "\n",
    "print('-------------------------------------------------------')\n",
    "\n",
    "data.info()"
   ]
  },
  {
   "cell_type": "markdown",
   "id": "39e99434",
   "metadata": {},
   "source": [
    "# Estandarizar la matriz X"
   ]
  },
  {
   "cell_type": "code",
   "execution_count": 19,
   "id": "f0d9470f",
   "metadata": {},
   "outputs": [
    {
     "name": "stdout",
     "output_type": "stream",
     "text": [
      "Rows: 18495 Columns: 9\n"
     ]
    }
   ],
   "source": [
    "dataset = np.array(data)\n",
    "m, n = np.shape(dataset)\n",
    "print('Rows:', m, 'Columns:', n)"
   ]
  },
  {
   "cell_type": "code",
   "execution_count": 29,
   "id": "f89d57ce",
   "metadata": {},
   "outputs": [],
   "source": [
    "x = dataset[:, 0]\n",
    "y = dataset[:, 3]"
   ]
  },
  {
   "cell_type": "code",
   "execution_count": 30,
   "id": "36ad9638",
   "metadata": {},
   "outputs": [
    {
     "name": "stdout",
     "output_type": "stream",
     "text": [
      "[1 2 3 ... 18493 18494 18495]\n"
     ]
    }
   ],
   "source": [
    "#Ranking\n",
    "print(x)"
   ]
  },
  {
   "cell_type": "code",
   "execution_count": 31,
   "id": "ad785b8b",
   "metadata": {},
   "outputs": [
    {
     "name": "stdout",
     "output_type": "stream",
     "text": [
      "[21.0 13.0 12.0 ... 13.0 21.0 21.0]\n"
     ]
    }
   ],
   "source": [
    "#Num. episodios\n",
    "print(y)"
   ]
  },
  {
   "cell_type": "code",
   "execution_count": null,
   "id": "5d0750f6",
   "metadata": {},
   "outputs": [],
   "source": []
  }
 ],
 "metadata": {
  "kernelspec": {
   "display_name": "Python 3 (ipykernel)",
   "language": "python",
   "name": "python3"
  },
  "language_info": {
   "codemirror_mode": {
    "name": "ipython",
    "version": 3
   },
   "file_extension": ".py",
   "mimetype": "text/x-python",
   "name": "python",
   "nbconvert_exporter": "python",
   "pygments_lexer": "ipython3",
   "version": "3.9.13"
  }
 },
 "nbformat": 4,
 "nbformat_minor": 5
}
